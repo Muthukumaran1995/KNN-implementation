{
 "cells": [
  {
   "cell_type": "code",
   "execution_count": 1,
   "metadata": {},
   "outputs": [],
   "source": [
    "import pandas as pd \n",
    "import numpy as np \n",
    "from sklearn.metrics import accuracy_score,classification_report,confusion_matrix\n",
    "from sklearn.model_selection import cross_val_score, train_test_split\n",
    "from sklearn.linear_model import LogisticRegression\n",
    "from sklearn.preprocessing import StandardScaler, PolynomialFeatures\n",
    "from sklearn.neighbors import KNeighborsClassifier\n",
    "import warnings\n",
    "warnings.filterwarnings(\"ignore\")"
   ]
  },
  {
   "cell_type": "code",
   "execution_count": 2,
   "metadata": {},
   "outputs": [],
   "source": [
    "np.random.seed(42)"
   ]
  },
  {
   "cell_type": "code",
   "execution_count": 22,
   "metadata": {},
   "outputs": [],
   "source": [
    "df = pd.read_csv(\"http://archive.ics.uci.edu/ml/machine-learning-databases/wine-quality/winequality-white.csv\",sep = ';')\n",
    "y = df.pop('quality')"
   ]
  },
  {
   "cell_type": "code",
   "execution_count": 23,
   "metadata": {},
   "outputs": [
    {
     "data": {
      "text/html": [
       "<div>\n",
       "<style scoped>\n",
       "    .dataframe tbody tr th:only-of-type {\n",
       "        vertical-align: middle;\n",
       "    }\n",
       "\n",
       "    .dataframe tbody tr th {\n",
       "        vertical-align: top;\n",
       "    }\n",
       "\n",
       "    .dataframe thead th {\n",
       "        text-align: right;\n",
       "    }\n",
       "</style>\n",
       "<table border=\"1\" class=\"dataframe\">\n",
       "  <thead>\n",
       "    <tr style=\"text-align: right;\">\n",
       "      <th></th>\n",
       "      <th>fixed acidity</th>\n",
       "      <th>volatile acidity</th>\n",
       "      <th>citric acid</th>\n",
       "      <th>residual sugar</th>\n",
       "      <th>chlorides</th>\n",
       "      <th>free sulfur dioxide</th>\n",
       "      <th>total sulfur dioxide</th>\n",
       "      <th>density</th>\n",
       "      <th>pH</th>\n",
       "      <th>sulphates</th>\n",
       "      <th>alcohol</th>\n",
       "    </tr>\n",
       "  </thead>\n",
       "  <tbody>\n",
       "    <tr>\n",
       "      <th>0</th>\n",
       "      <td>7.0</td>\n",
       "      <td>0.27</td>\n",
       "      <td>0.36</td>\n",
       "      <td>20.7</td>\n",
       "      <td>0.045</td>\n",
       "      <td>45.0</td>\n",
       "      <td>170.0</td>\n",
       "      <td>1.0010</td>\n",
       "      <td>3.00</td>\n",
       "      <td>0.45</td>\n",
       "      <td>8.8</td>\n",
       "    </tr>\n",
       "    <tr>\n",
       "      <th>1</th>\n",
       "      <td>6.3</td>\n",
       "      <td>0.30</td>\n",
       "      <td>0.34</td>\n",
       "      <td>1.6</td>\n",
       "      <td>0.049</td>\n",
       "      <td>14.0</td>\n",
       "      <td>132.0</td>\n",
       "      <td>0.9940</td>\n",
       "      <td>3.30</td>\n",
       "      <td>0.49</td>\n",
       "      <td>9.5</td>\n",
       "    </tr>\n",
       "    <tr>\n",
       "      <th>2</th>\n",
       "      <td>8.1</td>\n",
       "      <td>0.28</td>\n",
       "      <td>0.40</td>\n",
       "      <td>6.9</td>\n",
       "      <td>0.050</td>\n",
       "      <td>30.0</td>\n",
       "      <td>97.0</td>\n",
       "      <td>0.9951</td>\n",
       "      <td>3.26</td>\n",
       "      <td>0.44</td>\n",
       "      <td>10.1</td>\n",
       "    </tr>\n",
       "    <tr>\n",
       "      <th>3</th>\n",
       "      <td>7.2</td>\n",
       "      <td>0.23</td>\n",
       "      <td>0.32</td>\n",
       "      <td>8.5</td>\n",
       "      <td>0.058</td>\n",
       "      <td>47.0</td>\n",
       "      <td>186.0</td>\n",
       "      <td>0.9956</td>\n",
       "      <td>3.19</td>\n",
       "      <td>0.40</td>\n",
       "      <td>9.9</td>\n",
       "    </tr>\n",
       "    <tr>\n",
       "      <th>4</th>\n",
       "      <td>7.2</td>\n",
       "      <td>0.23</td>\n",
       "      <td>0.32</td>\n",
       "      <td>8.5</td>\n",
       "      <td>0.058</td>\n",
       "      <td>47.0</td>\n",
       "      <td>186.0</td>\n",
       "      <td>0.9956</td>\n",
       "      <td>3.19</td>\n",
       "      <td>0.40</td>\n",
       "      <td>9.9</td>\n",
       "    </tr>\n",
       "  </tbody>\n",
       "</table>\n",
       "</div>"
      ],
      "text/plain": [
       "   fixed acidity  volatile acidity  citric acid  residual sugar  chlorides  \\\n",
       "0            7.0              0.27         0.36            20.7      0.045   \n",
       "1            6.3              0.30         0.34             1.6      0.049   \n",
       "2            8.1              0.28         0.40             6.9      0.050   \n",
       "3            7.2              0.23         0.32             8.5      0.058   \n",
       "4            7.2              0.23         0.32             8.5      0.058   \n",
       "\n",
       "   free sulfur dioxide  total sulfur dioxide  density    pH  sulphates  \\\n",
       "0                 45.0                 170.0   1.0010  3.00       0.45   \n",
       "1                 14.0                 132.0   0.9940  3.30       0.49   \n",
       "2                 30.0                  97.0   0.9951  3.26       0.44   \n",
       "3                 47.0                 186.0   0.9956  3.19       0.40   \n",
       "4                 47.0                 186.0   0.9956  3.19       0.40   \n",
       "\n",
       "   alcohol  \n",
       "0      8.8  \n",
       "1      9.5  \n",
       "2     10.1  \n",
       "3      9.9  \n",
       "4      9.9  "
      ]
     },
     "execution_count": 23,
     "metadata": {},
     "output_type": "execute_result"
    }
   ],
   "source": [
    "df.head()"
   ]
  },
  {
   "cell_type": "code",
   "execution_count": 36,
   "metadata": {},
   "outputs": [
    {
     "data": {
      "text/plain": [
       "array([6, 5, 7, 8, 4, 3, 9], dtype=int64)"
      ]
     },
     "execution_count": 36,
     "metadata": {},
     "output_type": "execute_result"
    }
   ],
   "source": [
    "y.unique()"
   ]
  },
  {
   "cell_type": "code",
   "execution_count": 24,
   "metadata": {},
   "outputs": [
    {
     "data": {
      "text/plain": [
       "(4898, 11)"
      ]
     },
     "execution_count": 24,
     "metadata": {},
     "output_type": "execute_result"
    }
   ],
   "source": [
    "df.shape"
   ]
  },
  {
   "cell_type": "code",
   "execution_count": 25,
   "metadata": {},
   "outputs": [
    {
     "data": {
      "text/plain": [
       "fixed acidity           0\n",
       "volatile acidity        0\n",
       "citric acid             0\n",
       "residual sugar          0\n",
       "chlorides               0\n",
       "free sulfur dioxide     0\n",
       "total sulfur dioxide    0\n",
       "density                 0\n",
       "pH                      0\n",
       "sulphates               0\n",
       "alcohol                 0\n",
       "dtype: int64"
      ]
     },
     "execution_count": 25,
     "metadata": {},
     "output_type": "execute_result"
    }
   ],
   "source": [
    "df.isna().sum()"
   ]
  },
  {
   "cell_type": "code",
   "execution_count": 26,
   "metadata": {},
   "outputs": [],
   "source": [
    "for i in df.columns:\n",
    "    df[i] = df[i].fillna(np.mean(df[i]))"
   ]
  },
  {
   "cell_type": "code",
   "execution_count": 27,
   "metadata": {},
   "outputs": [],
   "source": [
    "train_x, test_x, train_y, test_y = train_test_split(df, y, test_size = 0.2)"
   ]
  },
  {
   "cell_type": "code",
   "execution_count": 56,
   "metadata": {},
   "outputs": [],
   "source": [
    "def model_fit(alg, train_x, test_x, train_y, test_y, if_cv = True, cv_folds = 5):\n",
    "    alg.fit(train_x, train_y)\n",
    "    \n",
    "    #performing Cross Validation\n",
    "    if if_cv: \n",
    "        cv_score = cross_val_score(alg, train_x, train_y, cv = cv_folds, scoring = 'f1_macro')\n",
    "    \n",
    "    predictions = alg.predict(test_x)\n",
    "    \n",
    "    #Print \n",
    "    print(\"\\n ************************* Model Report ************************* \\n\")\n",
    "    print(classification_report(test_y, predictions))\n",
    "    \n",
    "    if if_cv: \n",
    "        print(\"CV REPORT :- Mean - %.3g | Std - %.3g | Min - %.3g | Max - %.3g\"%(np.mean(cv_score),\n",
    "                                                                                 np.std(cv_score),\n",
    "                                                                                 np.min(cv_score),\n",
    "                                                                                 np.max(cv_score)))\n",
    "    \n",
    "    print(\"Accuracy: \", accuracy_score(test_y, predictions))\n",
    "    print('-'*100)\n",
    "    \n",
    "    cm = pd.DataFrame(confusion_matrix(test_y, predictions, labels = [6, 5, 7, 8, 4, 3, 9]))\n",
    "    return cm"
   ]
  },
  {
   "cell_type": "code",
   "execution_count": 57,
   "metadata": {
    "scrolled": false
   },
   "outputs": [
    {
     "name": "stdout",
     "output_type": "stream",
     "text": [
      "\n",
      " ************************* Model Report ************************* \n",
      "\n",
      "              precision    recall  f1-score   support\n",
      "\n",
      "           3       0.00      0.00      0.00         4\n",
      "           4       0.00      0.00      0.00        39\n",
      "           5       0.46      0.32      0.38       290\n",
      "           6       0.49      0.83      0.62       450\n",
      "           7       0.56      0.05      0.10       171\n",
      "           8       0.00      0.00      0.00        25\n",
      "           9       0.00      0.00      0.00         1\n",
      "\n",
      "    accuracy                           0.48       980\n",
      "   macro avg       0.22      0.17      0.16       980\n",
      "weighted avg       0.46      0.48      0.41       980\n",
      "\n",
      "CV REPORT :- Mean - 0.157 | Std - 0.0142 | Min - 0.142 | Max - 0.183\n",
      "Accuracy:  0.4846938775510204\n",
      "----------------------------------------------------------------------------------------------------\n",
      "\n",
      " ************************* Confusion matrix ************************* \n",
      "\n",
      "     0   1  2  3  4  5  6\n",
      "0  372  75  3  0  0  0  0\n",
      "1  195  94  1  0  0  0  0\n",
      "2  147  15  9  0  0  0  0\n",
      "3   20   3  2  0  0  0  0\n",
      "4   21  17  1  0  0  0  0\n",
      "5    3   1  0  0  0  0  0\n",
      "6    1   0  0  0  0  0  0\n"
     ]
    }
   ],
   "source": [
    "lr = LogisticRegression()\n",
    "# labels = lr.classes_\n",
    "cm = model_fit(lr, train_x, test_x, train_y, test_y)\n",
    "print(\"\\n ************************* Confusion matrix ************************* \\n\")\n",
    "print(cm)"
   ]
  },
  {
   "cell_type": "code",
   "execution_count": 58,
   "metadata": {},
   "outputs": [],
   "source": [
    "def KNN_predicts(train_x, test_x, train_y, test_y, scaler, neighbours, metric = 'manhattan', weights = 'uniform'):\n",
    "    \n",
    "    train_scaled = scaler.fit_transform(train_x)\n",
    "    test_scaled = scaler.transform(test_x)\n",
    "    \n",
    "    KNN = KNeighborsClassifier(n_neighbors = neighbours, metric = metric, weights = weights, n_jobs = -1)\n",
    "    KNN.fit(train_scaled, train_y)\n",
    "    predictions = KNN.predict(test_scaled)  \n",
    "   \n",
    "    print(\"Accuracy: \", accuracy_score(test_y, predictions))\n",
    "    print('-'*100)\n",
    "    return KNN"
   ]
  },
  {
   "cell_type": "code",
   "execution_count": 59,
   "metadata": {},
   "outputs": [
    {
     "name": "stdout",
     "output_type": "stream",
     "text": [
      "Accuracy:  0.636734693877551\n",
      "----------------------------------------------------------------------------------------------------\n"
     ]
    },
    {
     "data": {
      "text/plain": [
       "KNeighborsClassifier(metric='manhattan', n_jobs=-1, n_neighbors=1)"
      ]
     },
     "execution_count": 59,
     "metadata": {},
     "output_type": "execute_result"
    }
   ],
   "source": [
    "KNN_predicts(train_x, test_x, train_y, test_y, StandardScaler(), 1)"
   ]
  },
  {
   "cell_type": "markdown",
   "metadata": {},
   "source": [
    "## Neighbours tuning"
   ]
  },
  {
   "cell_type": "code",
   "execution_count": 60,
   "metadata": {},
   "outputs": [
    {
     "name": "stdout",
     "output_type": "stream",
     "text": [
      "Accuracy score on kNN using n_neighbours = 2: Accuracy:  0.5663265306122449\n",
      "----------------------------------------------------------------------------------------------------\n",
      "Accuracy score on kNN using n_neighbours = 4: Accuracy:  0.5489795918367347\n",
      "----------------------------------------------------------------------------------------------------\n",
      "Accuracy score on kNN using n_neighbours = 8: Accuracy:  0.5551020408163265\n",
      "----------------------------------------------------------------------------------------------------\n",
      "Accuracy score on kNN using n_neighbours = 16: Accuracy:  0.5408163265306123\n",
      "----------------------------------------------------------------------------------------------------\n",
      "Accuracy score on kNN using n_neighbours = 32: Accuracy:  0.5183673469387755\n",
      "----------------------------------------------------------------------------------------------------\n",
      "Accuracy score on kNN using n_neighbours = 64: Accuracy:  0.5295918367346939\n",
      "----------------------------------------------------------------------------------------------------\n",
      "Accuracy score on kNN using n_neighbours = 128: Accuracy:  0.5316326530612245\n",
      "----------------------------------------------------------------------------------------------------\n",
      "Accuracy score on kNN using n_neighbours = 256: Accuracy:  0.5357142857142857\n",
      "----------------------------------------------------------------------------------------------------\n",
      "Accuracy score on kNN using n_neighbours = 512: Accuracy:  0.5153061224489796\n",
      "----------------------------------------------------------------------------------------------------\n",
      "Accuracy score on kNN using n_neighbours = 1024: Accuracy:  0.4897959183673469\n",
      "----------------------------------------------------------------------------------------------------\n"
     ]
    }
   ],
   "source": [
    "for k in range(1,11):\n",
    "    print('Accuracy score on kNN using n_neighbours = {0}:'.format(2**k), end = ' ')\n",
    "    KNN_predicts(train_x, test_x, train_y, test_y, StandardScaler(), 2**k)"
   ]
  },
  {
   "cell_type": "markdown",
   "metadata": {},
   "source": [
    "## Metric tuning"
   ]
  },
  {
   "cell_type": "code",
   "execution_count": 61,
   "metadata": {},
   "outputs": [
    {
     "name": "stdout",
     "output_type": "stream",
     "text": [
      "Accuracy score on kNN using euclidean metric and 4 neighbours: Accuracy:  0.5551020408163265\n",
      "----------------------------------------------------------------------------------------------------\n",
      "Accuracy score on kNN using minkowski metric and 4 neighbours: Accuracy:  0.5551020408163265\n",
      "----------------------------------------------------------------------------------------------------\n",
      "Accuracy score on kNN using manhattan metric and 4 neighbours: Accuracy:  0.5489795918367347\n",
      "----------------------------------------------------------------------------------------------------\n",
      "Accuracy score on kNN using chebyshev metric and 4 neighbours: Accuracy:  0.5387755102040817\n",
      "----------------------------------------------------------------------------------------------------\n"
     ]
    }
   ],
   "source": [
    "k = 4\n",
    "for metric in ['euclidean', 'minkowski', 'manhattan', 'chebyshev']:\n",
    "    print('Accuracy score on kNN using {} metric and {} neighbours:'.format(metric, k), end = ' ')\n",
    "    KNN_predicts(train_x, test_x, train_y, test_y, StandardScaler(), k, metric)"
   ]
  },
  {
   "cell_type": "markdown",
   "metadata": {},
   "source": [
    "## Weighted kNN tuning\n",
    "\n",
    "'uniform' : uniform weights. All points in each neighborhood are weighted equally.\n",
    "\n",
    "'distance' : weight points by the inverse of their distance. in this case, closer neighbors of a query point will have a greater influence than neighbors which are further away."
   ]
  },
  {
   "cell_type": "code",
   "execution_count": 62,
   "metadata": {},
   "outputs": [
    {
     "name": "stdout",
     "output_type": "stream",
     "text": [
      "Accuracy score on kNN using n_neighbours = uniform: Accuracy:  0.5489795918367347\n",
      "----------------------------------------------------------------------------------------------------\n",
      "Accuracy score on kNN using n_neighbours = distance: Accuracy:  0.6448979591836734\n",
      "----------------------------------------------------------------------------------------------------\n"
     ]
    }
   ],
   "source": [
    "for weight in ['uniform','distance']:\n",
    "    print('Accuracy score on kNN using n_neighbours = {0}:'.format(weight), end = ' ')\n",
    "    KNN_predicts(train_x, test_x, train_y, test_y, StandardScaler(), 4, metric ='manhattan', weights = weight)"
   ]
  },
  {
   "cell_type": "markdown",
   "metadata": {},
   "source": [
    "## Feature Engineering"
   ]
  },
  {
   "cell_type": "code",
   "execution_count": 65,
   "metadata": {},
   "outputs": [],
   "source": [
    "def create_poly(train_x, test_x, degree):\n",
    "    poly = PolynomialFeatures(degree = degree)\n",
    "    train_poly = poly.fit_transform(train_x)\n",
    "    test_poly = poly.fit_transform(test_x)\n",
    "    return train_poly, test_poly"
   ]
  },
  {
   "cell_type": "code",
   "execution_count": 66,
   "metadata": {},
   "outputs": [
    {
     "name": "stdout",
     "output_type": "stream",
     "text": [
      "Polynomial degree 1\n",
      "Accuracy:  0.6448979591836734\n",
      "----------------------------------------------------------------------------------------------------\n",
      "Polynomial degree 2\n",
      "Accuracy:  0.6459183673469387\n",
      "----------------------------------------------------------------------------------------------------\n",
      "Polynomial degree 3\n",
      "Accuracy:  0.6530612244897959\n",
      "----------------------------------------------------------------------------------------------------\n"
     ]
    }
   ],
   "source": [
    "for degree in [1, 2, 3]:\n",
    "    train_poly, test_poly = create_poly(train_x, test_x, degree)\n",
    "    print('Polynomial degree', degree)\n",
    "    Knn = KNN_predicts(train_poly, test_poly, train_y, test_y, StandardScaler(), 4, metric ='manhattan', weights = 'distance')"
   ]
  },
  {
   "cell_type": "code",
   "execution_count": 67,
   "metadata": {},
   "outputs": [
    {
     "data": {
      "text/plain": [
       "KNeighborsClassifier(metric='manhattan', n_jobs=-1, n_neighbors=4,\n",
       "                     weights='distance')"
      ]
     },
     "execution_count": 67,
     "metadata": {},
     "output_type": "execute_result"
    }
   ],
   "source": [
    "Knn"
   ]
  },
  {
   "cell_type": "code",
   "execution_count": 68,
   "metadata": {},
   "outputs": [],
   "source": [
    "train_poly, test_poly = create_poly(train_x, test_x, 2)"
   ]
  },
  {
   "cell_type": "markdown",
   "metadata": {},
   "source": [
    "## Model pickling"
   ]
  },
  {
   "cell_type": "code",
   "execution_count": 105,
   "metadata": {},
   "outputs": [
    {
     "data": {
      "text/plain": [
       "['KNNModel.pkl']"
      ]
     },
     "execution_count": 105,
     "metadata": {},
     "output_type": "execute_result"
    }
   ],
   "source": [
    "# from sklearn.externals import joblib \n",
    "import joblib\n",
    "joblib.dump(Knn,'KNNModel.pkl')"
   ]
  },
  {
   "cell_type": "code",
   "execution_count": 109,
   "metadata": {},
   "outputs": [],
   "source": [
    "knn_new_model = joblib.load('KNNModel.pkl')"
   ]
  },
  {
   "cell_type": "code",
   "execution_count": 110,
   "metadata": {},
   "outputs": [],
   "source": [
    "def feature_eng(df):\n",
    "    df['feat1'] = df['total sulfur dioxide'] / df['free sulfur dioxide']\n",
    "    df['feat2'] = df['pH'] * df['fixed acidity']\n",
    "    return df"
   ]
  },
  {
   "cell_type": "code",
   "execution_count": 111,
   "metadata": {},
   "outputs": [],
   "source": [
    "train_feat = feature_eng(train_x)\n",
    "test_feat = feature_eng(test_x)\n"
   ]
  },
  {
   "cell_type": "code",
   "execution_count": 113,
   "metadata": {},
   "outputs": [
    {
     "name": "stdout",
     "output_type": "stream",
     "text": [
      "The score after feature engineering: \n",
      "Accuracy:  0.676530612244898\n",
      "----------------------------------------------------------------------------------------------------\n"
     ]
    },
    {
     "data": {
      "text/plain": [
       "KNeighborsClassifier(metric='manhattan', n_jobs=-1, n_neighbors=4,\n",
       "                     weights='distance')"
      ]
     },
     "execution_count": 113,
     "metadata": {},
     "output_type": "execute_result"
    }
   ],
   "source": [
    "print(\"The score after feature engineering: \")\n",
    "KNN_predicts(train_x, test_x, train_y, test_y, StandardScaler(), 4, metric ='manhattan',weights = 'distance')"
   ]
  },
  {
   "cell_type": "code",
   "execution_count": null,
   "metadata": {},
   "outputs": [],
   "source": []
  }
 ],
 "metadata": {
  "kernelspec": {
   "display_name": "Python 3",
   "language": "python",
   "name": "python3"
  },
  "language_info": {
   "codemirror_mode": {
    "name": "ipython",
    "version": 3
   },
   "file_extension": ".py",
   "mimetype": "text/x-python",
   "name": "python",
   "nbconvert_exporter": "python",
   "pygments_lexer": "ipython3",
   "version": "3.8.3"
  }
 },
 "nbformat": 4,
 "nbformat_minor": 2
}
